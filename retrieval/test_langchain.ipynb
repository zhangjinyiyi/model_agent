{
 "cells": [
  {
   "cell_type": "code",
   "execution_count": 1,
   "metadata": {},
   "outputs": [],
   "source": [
    "from langchain_openai import OpenAIEmbeddings\n",
    "\n",
    "embeddings = OpenAIEmbeddings(\n",
    "    model=\"text-embedding-3-large\",\n",
    "    # With the `text-embedding-3` class\n",
    "    # of models, you can specify the size\n",
    "    # of the embeddings you want returned.\n",
    "    # dimensions=1024\n",
    "    base_url=\"https://api.bianxie.ai/v1\"\n",
    ")"
   ]
  },
  {
   "cell_type": "code",
   "execution_count": 2,
   "metadata": {},
   "outputs": [],
   "source": [
    "# Create a vector store with a sample text\n",
    "from langchain_core.vectorstores import InMemoryVectorStore\n",
    "\n",
    "text = \"LangChain is the framework for building context-aware reasoning applications\"\n",
    "\n",
    "vectorstore = InMemoryVectorStore.from_texts(\n",
    "    [text],\n",
    "    embedding=embeddings,\n",
    "    metadatas=[{\"source\": \"test\"}]\n",
    ")\n",
    "\n"
   ]
  },
  {
   "cell_type": "code",
   "execution_count": 3,
   "metadata": {},
   "outputs": [],
   "source": [
    "import json\n",
    "import os\n",
    "\n",
    "from langchain_core.vectorstores import InMemoryVectorStore\n",
    "\n",
    "os.path.abspath(\"../system_builder/modules_50.json\")\n",
    "\n",
    "with open(os.path.abspath(\"./models_50.json\"), \"r\") as f:\n",
    "    modules_list = json.load(f)\n",
    "    \n",
    "test_size = 10\n",
    "descriptions_list = [modules_list[key][\"description\"] for key in modules_list][:test_size]\n",
    "metadata_list = [{\"path\": modules_list[key][\"path\"], \"name\": key, \"description\": modules_list[key][\"description\"]} for key in modules_list][:test_size]\n",
    "\n",
    "vectorstore = InMemoryVectorStore.from_texts(\n",
    "    descriptions_list,\n",
    "    embedding=embeddings,\n",
    "    metadatas=metadata_list\n",
    ")\n"
   ]
  },
  {
   "cell_type": "markdown",
   "metadata": {},
   "source": [
    "## Test model retrieval"
   ]
  },
  {
   "cell_type": "code",
   "execution_count": 5,
   "metadata": {},
   "outputs": [
    {
     "data": {
      "text/plain": [
       "{'path': '/Users/yi/Documents/code/model_agent/ThermoSysPro/WaterSteam/BoundaryConditions/SourceP.mo',\n",
       " 'name': 'SourceP.mo',\n",
       " 'description': \"The given Modelica model represents a water/steam source with fixed pressure. It provides parameters and equations to configure and simulate the fluid's properties, such as pressure, temperature, and specific enthalpy, based on user-specified options. The model outputs are used for fluid outlet connections.\"}"
      ]
     },
     "execution_count": 5,
     "metadata": {},
     "output_type": "execute_result"
    }
   ],
   "source": [
    "# Use the vectorstore as a retriever\n",
    "retriever = vectorstore.as_retriever()\n",
    "\n",
    "# Retrieve the most similar text\n",
    "retrieved_documents = retriever.invoke(\"For a water/steam source with fixed pressure to feed into the system\")\n",
    "\n",
    "# show the retrieved document's content\n",
    "retrieved_documents[0].metadata"
   ]
  },
  {
   "cell_type": "code",
   "execution_count": 23,
   "metadata": {},
   "outputs": [
    {
     "data": {
      "text/plain": [
       "{'path': '/Users/yi/Documents/code/model_agent/ThermoSysPro/WaterSteam/BoundaryConditions/SourceP.mo',\n",
       " 'name': 'SourceP.mo',\n",
       " 'description': \"The given Modelica model represents a water/steam source with fixed pressure. It provides parameters and equations to configure and simulate the fluid's properties, such as pressure, temperature, and specific enthalpy, based on user-specified options. The model outputs are used for fluid outlet connections.\"}"
      ]
     },
     "execution_count": 23,
     "metadata": {},
     "output_type": "execute_result"
    }
   ],
   "source": []
  },
  {
   "cell_type": "code",
   "execution_count": null,
   "metadata": {},
   "outputs": [],
   "source": []
  }
 ],
 "metadata": {
  "kernelspec": {
   "display_name": "modelagent11",
   "language": "python",
   "name": "python3"
  },
  "language_info": {
   "codemirror_mode": {
    "name": "ipython",
    "version": 3
   },
   "file_extension": ".py",
   "mimetype": "text/x-python",
   "name": "python",
   "nbconvert_exporter": "python",
   "pygments_lexer": "ipython3",
   "version": "3.11.10"
  }
 },
 "nbformat": 4,
 "nbformat_minor": 2
}
