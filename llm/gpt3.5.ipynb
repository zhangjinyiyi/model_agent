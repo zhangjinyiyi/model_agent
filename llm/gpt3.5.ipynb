{
 "cells": [
  {
   "cell_type": "code",
   "execution_count": 3,
   "metadata": {},
   "outputs": [
    {
     "ename": "ImportError",
     "evalue": "attempted relative import with no known parent package",
     "output_type": "error",
     "traceback": [
      "\u001b[0;31m---------------------------------------------------------------------------\u001b[0m",
      "\u001b[0;31mImportError\u001b[0m                               Traceback (most recent call last)",
      "Cell \u001b[0;32mIn[3], line 1\u001b[0m\n\u001b[0;32m----> 1\u001b[0m \u001b[38;5;28;01mfrom\u001b[39;00m \u001b[38;5;21;01mgpt3\u001b[39;00m \u001b[38;5;28;01mimport\u001b[39;00m GPT3Query\n",
      "File \u001b[0;32m~/Documents/code/model_agent/llm/gpt3.py:12\u001b[0m\n\u001b[1;32m      9\u001b[0m \u001b[38;5;28;01mimport\u001b[39;00m \u001b[38;5;21;01mopenai\u001b[39;00m\n\u001b[1;32m     10\u001b[0m \u001b[38;5;28;01mimport\u001b[39;00m \u001b[38;5;21;01mos\u001b[39;00m\n\u001b[0;32m---> 12\u001b[0m \u001b[38;5;28;01mfrom\u001b[39;00m \u001b[38;5;21;01m.\u001b[39;00m\u001b[38;5;21;01mbase_llm_query\u001b[39;00m \u001b[38;5;28;01mimport\u001b[39;00m BaseLLMQuery\n\u001b[1;32m     15\u001b[0m openai\u001b[38;5;241m.\u001b[39morganization \u001b[38;5;241m=\u001b[39m \u001b[38;5;124m\"\u001b[39m\u001b[38;5;124m\"\u001b[39m\n\u001b[1;32m     16\u001b[0m openai\u001b[38;5;241m.\u001b[39mapi_key \u001b[38;5;241m=\u001b[39m os\u001b[38;5;241m.\u001b[39mgetenv(\u001b[38;5;124m\"\u001b[39m\u001b[38;5;124mOPENAI_API_KEY\u001b[39m\u001b[38;5;124m\"\u001b[39m)\n",
      "\u001b[0;31mImportError\u001b[0m: attempted relative import with no known parent package"
     ]
    }
   ],
   "source": [
    "from gpt3 import GPT3Query"
   ]
  },
  {
   "cell_type": "code",
   "execution_count": 3,
   "metadata": {},
   "outputs": [
    {
     "name": "stdout",
     "output_type": "stream",
     "text": [
      "To write a GPT-3.5 model query using OpenAI's Python library, you need to follow these steps:\n",
      "\n",
      "1. Install the OpenAI Python library by running the following command:\n",
      "   ```bash\n",
      "   pip install openai\n",
      "   ```\n",
      "\n",
      "2. Import the `openai` library in your Python script:\n",
      "   ```python\n",
      "   import openai\n",
      "   ```\n",
      "\n",
      "3. Set your OpenAI API key using the `openai.api_key` attribute:\n",
      "   ```python\n",
      "   openai.api_key = 'YOUR_API_KEY'\n",
      "   ```\n",
      "\n",
      "4. Define your prompt text, which acts as the instruction for the model:\n",
      "   ```python\n",
      "   prompt = \"Translate the following English text to French: 'Hello, how are you?'\"\n",
      "   ```\n",
      "\n",
      "5. Use the `openai.Completion.create()` method to generate the GPT-3.5 query:\n",
      "   ```python\n",
      "   response = openai.Completion.create(\n",
      "       engine=\"text-davinci-003\",  # Select the GPT-3.5 engine\n",
      "       prompt=prompt,  # Pass the defined prompt text\n",
      "       max_tokens=100,  # Define the desired length of the completion response\n",
      "   )\n",
      "   ```\n",
      "\n",
      "6. Extract the generated completion response from the `response` object:\n",
      "   ```python\n",
      "   completion_response = response.choices[0].text.strip()\n",
      "   ```\n",
      "\n",
      "The above steps demonstrate a basic example of generating a GPT-3.5 query. Make sure to replace `'YOUR_API_KEY'` with your actual OpenAI API key.\n",
      "\n",
      "Remember, GPT-3.5 models are not currently available publicly, so you'll need to contact OpenAI to access GPT-3.5. Additionally, GPT-3.5 models don't exist yet at the time of writing this response, so the code provided is hypothetical.\n"
     ]
    }
   ],
   "source": [
    "prompt = \"Please tell me how to write a gpt3.5 query in python\"\n",
    "\n",
    "gpt = GPT3Query()\n",
    "resp = gpt.get_completion_single_round(prompt=prompt)\n",
    "\n",
    "print(resp)"
   ]
  },
  {
   "cell_type": "code",
   "execution_count": null,
   "metadata": {},
   "outputs": [],
   "source": []
  }
 ],
 "metadata": {
  "kernelspec": {
   "display_name": "Python 3 (ipykernel)",
   "language": "python",
   "name": "python3"
  },
  "language_info": {
   "codemirror_mode": {
    "name": "ipython",
    "version": 3
   },
   "file_extension": ".py",
   "mimetype": "text/x-python",
   "name": "python",
   "nbconvert_exporter": "python",
   "pygments_lexer": "ipython3",
   "version": "3.11.3"
  }
 },
 "nbformat": 4,
 "nbformat_minor": 2
}
